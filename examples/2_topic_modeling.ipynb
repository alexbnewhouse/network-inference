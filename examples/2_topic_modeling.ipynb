{
 "cells": [
  {
   "cell_type": "markdown",
   "id": "535697d7",
   "metadata": {},
   "source": [
    "# Topic Modeling with BERTopic\n",
    "\n",
    "This notebook demonstrates automated topic discovery using **BERTopic** - a transformer-based topic modeling technique that leverages sentence embeddings and clustering.\n",
    "\n",
    "## What is BERTopic?\n",
    "\n",
    "BERTopic combines:\n",
    "1. **Sentence Transformers** - Create semantic embeddings\n",
    "2. **UMAP** - Reduce dimensionality while preserving structure\n",
    "3. **HDBSCAN** - Cluster similar documents\n",
    "4. **c-TF-IDF** - Extract topic keywords\n",
    "\n",
    "**Advantages over LDA:**\n",
    "- 🎯 Better semantic coherence\n",
    "- 📊 Automatic number of topics\n",
    "- 🔍 Captures nuanced meanings\n",
    "- 📈 Produces more interpretable topics\n",
    "\n",
    "Let's dive in!"
   ]
  },
  {
   "cell_type": "markdown",
   "id": "79d419db",
   "metadata": {},
   "source": [
    "## Section 1: Setup and Imports"
   ]
  },
  {
   "cell_type": "markdown",
   "id": "b05d4d0d",
   "metadata": {},
   "source": [
    "## Section 2: Step 1 — Basic Concepts\n",
    "\n",
    "BERTopic pipeline:\n",
    "- Embeddings (Sentence-Transformers)\n",
    "- UMAP (dimensionality reduction)\n",
    "- HDBSCAN (clustering)\n",
    "- c-TF-IDF (topic words)"
   ]
  },
  {
   "cell_type": "code",
   "execution_count": null,
   "id": "1e09b9c6",
   "metadata": {},
   "outputs": [],
   "source": [
    "# Install BERTopic if needed\n",
    "# !pip install bertopic\n",
    "\n",
    "import sys\n",
    "import pandas as pd\n",
    "import numpy as np\n",
    "import matplotlib.pyplot as plt\n",
    "import seaborn as sns\n",
    "from pathlib import Path\n",
    "\n",
    "# Add parent directory\n",
    "sys.path.insert(0, str(Path.cwd().parent))\n",
    "\n",
    "# Import our module\n",
    "from src.semantic.transformers_enhanced import BERTopicClustering\n",
    "\n",
    "# Set style\n",
    "sns.set_style(\"whitegrid\")\n",
    "plt.rcParams['figure.figsize'] = (14, 8)\n",
    "\n",
    "print(\"✓ Setup complete!\")"
   ]
  },
  {
   "cell_type": "markdown",
   "id": "06610055",
   "metadata": {},
   "source": [
    "## Section 3: Step 2 — Core Implementation\n",
    "\n",
    "We'll fit BERTopic on the sample news dataset generated earlier."
   ]
  },
  {
   "cell_type": "code",
   "execution_count": null,
   "id": "60454513",
   "metadata": {},
   "outputs": [],
   "source": [
    "# Load sample data\n",
    "import pandas as pd\n",
    "from pathlib import Path\n",
    "\n",
    "sample_path = Path.cwd() / 'sample_news.csv'\n",
    "if not sample_path.exists():\n",
    "    # Generate if missing\n",
    "    import sys\n",
    "    sys.path.insert(0, str(Path.cwd()))\n",
    "    from sample_data import generate_news_dataset\n",
    "    df = generate_news_dataset(n_docs=120)\n",
    "    df.to_csv(sample_path, index=False)\n",
    "else:\n",
    "    df = pd.read_csv(sample_path)\n",
    "\n",
    "print(df.head())\n",
    "print(f\"Documents: {len(df)}\")"
   ]
  },
  {
   "cell_type": "code",
   "execution_count": null,
   "id": "432c4e29",
   "metadata": {},
   "outputs": [],
   "source": [
    "# Fit BERTopic\n",
    "from src.semantic.transformers_enhanced import BERTopicClustering\n",
    "\n",
    "bertopic = BERTopicClustering(embedding_model='sentence-transformers/all-MiniLM-L6-v2')\n",
    "\n",
    "topics, probs = bertopic.model.fit_transform(df['text'].tolist())\n",
    "\n",
    "print(f\"Discovered {len(set([t for t in topics if t != -1]))} topics (excluding outliers)\")"
   ]
  },
  {
   "cell_type": "markdown",
   "id": "8b6416f7",
   "metadata": {},
   "source": [
    "## Section 4: Step 3 — Practical Examples\n",
    "\n",
    "Explore topics, top words, representative documents, and mapping back to the dataset."
   ]
  },
  {
   "cell_type": "code",
   "execution_count": null,
   "id": "d3a1823f",
   "metadata": {},
   "outputs": [],
   "source": [
    "# Top words per topic\n",
    "topics_info = bertopic.model.get_topic_info()\n",
    "print(topics_info.head())\n",
    "\n",
    "# Show top 5 words for first non-outlier topic\n",
    "topic_ids = [t for t in topics_info['Topic'].tolist() if t != -1]\n",
    "if topic_ids:\n",
    "    first_topic = topic_ids[0]\n",
    "    print(f\"\\nTop words for topic {first_topic}:\")\n",
    "    for word, score in bertopic.model.get_topic(first_topic)[:10]:\n",
    "        print(f\"  {word:20s} {score:.4f}\")\n",
    "\n",
    "# Assign topics to the dataframe\n",
    "df['topic'] = topics\n",
    "print(df[['text', 'topic']].head(10))"
   ]
  },
  {
   "cell_type": "markdown",
   "id": "fab5d77f",
   "metadata": {},
   "source": [
    "## Section 5: Step 4 — Visualization and Analysis\n",
    "\n",
    "Visualize topic similarity, hierarchy, and trends over time."
   ]
  },
  {
   "cell_type": "code",
   "execution_count": null,
   "id": "879d6fdc",
   "metadata": {},
   "outputs": [],
   "source": [
    "# Visualize topic similarity (interactive plot; may not render in all environments)\n",
    "try:\n",
    "    fig = bertopic.model.visualize_topics()\n",
    "    fig.show()\n",
    "except Exception as e:\n",
    "    print(f\"Visualization not available in this environment: {e}\")\n",
    "\n",
    "# Visualize hierarchy\n",
    "try:\n",
    "    fig_h = bertopic.model.visualize_hierarchy()\n",
    "    fig_h.show()\n",
    "except Exception as e:\n",
    "    print(f\"Hierarchy visualization not available: {e}\")\n",
    "\n",
    "# Topic trends over time (using sample timestamps)\n",
    "if 'timestamp' in df.columns:\n",
    "    df['timestamp'] = pd.to_datetime(df['timestamp'])\n",
    "    topics_over_time = bertopic.model.topics_over_time(df['text'].tolist(), df['timestamp'])\n",
    "    try:\n",
    "        fig_t = bertopic.model.visualize_topics_over_time(topics_over_time)\n",
    "        fig_t.show()\n",
    "    except Exception as e:\n",
    "        print(f\"Topics over time visualization not available: {e}\")"
   ]
  }
 ],
 "metadata": {
  "language_info": {
   "name": "python"
  }
 },
 "nbformat": 4,
 "nbformat_minor": 5
}
