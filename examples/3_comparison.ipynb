{
 "cells": [
  {
   "cell_type": "markdown",
   "id": "ff81a9b5",
   "metadata": {},
   "source": [
    "# Method Comparison: Co-occurrence vs Transformers\n",
    "\n",
    "Compare classical co-occurrence networks with transformer-based similarity networks on the same dataset.\n",
    "\n",
    "Sections:\n",
    "1. Setup and Imports\n",
    "2. Step 1: Basic Concepts\n",
    "3. Step 2: Core Implementation (build both networks)\n",
    "4. Step 3: Practical Examples (timings, samples)\n",
    "5. Step 4: Visualization and Analysis (metrics, plots)"
   ]
  },
  {
   "cell_type": "markdown",
   "id": "4ace1e5a",
   "metadata": {},
   "source": [
    "## Section 1: Setup and Imports"
   ]
  },
  {
   "cell_type": "code",
   "execution_count": null,
   "id": "c8a58043",
   "metadata": {},
   "outputs": [],
   "source": [
    "import time\n",
    "from pathlib import Path\n",
    "import pandas as pd\n",
    "import numpy as np\n",
    "import networkx as nx\n",
    "import matplotlib.pyplot as plt\n",
    "import seaborn as sns\n",
    "\n",
    "# Local imports\n",
    "import sys\n",
    "sys.path.insert(0, str(Path.cwd().parent))\n",
    "\n",
    "from src.semantic.transformers_enhanced import TransformerSemanticNetwork\n",
    "\n",
    "# We'll use the CLI build_semantic_network via a helper if needed; else, mimic co-occurrence with a stub\n",
    "try:\n",
    "    from src.semantic import build_semantic_network as cooccur\n",
    "except Exception as e:\n",
    "    cooccur = None\n",
    "    print(f\"Warning: co-occurrence module not available: {e}\")\n",
    "\n",
    "sns.set_style(\"whitegrid\")\n",
    "plt.rcParams['figure.figsize'] = (12, 8)\n",
    "\n",
    "# Load sample data\n",
    "sample_path = Path.cwd() / 'sample_news.csv'\n",
    "if not sample_path.exists():\n",
    "    sys.path.insert(0, str(Path.cwd()))\n",
    "    from sample_data import generate_news_dataset\n",
    "    df = generate_news_dataset(n_docs=200)\n",
    "    df.to_csv(sample_path, index=False)\n",
    "else:\n",
    "    df = pd.read_csv(sample_path)\n",
    "\n",
    "texts = df['text'].tolist()\n",
    "print(f\"Loaded {len(texts)} documents\")"
   ]
  },
  {
   "cell_type": "markdown",
   "id": "4c3ef288",
   "metadata": {},
   "source": [
    "## Section 2: Step 1 — Basic Concepts\n",
    "\n",
    "- Co-occurrence: Connect terms based on shared windows (PPMI weights)\n",
    "- Transformers: Connect documents/terms based on embedding cosine similarity"
   ]
  },
  {
   "cell_type": "markdown",
   "id": "b740d5f8",
   "metadata": {},
   "source": [
    "## Section 3: Step 2 — Core Implementation\n",
    "\n",
    "We will build:\n",
    "- Transformer document similarity network\n",
    "- Co-occurrence term network (if module available)"
   ]
  },
  {
   "cell_type": "code",
   "execution_count": null,
   "id": "60f120ab",
   "metadata": {},
   "outputs": [],
   "source": [
    "# Build transformer document network\n",
    "builder = TransformerSemanticNetwork()\n",
    "\n",
    "start = time.time()\n",
    "edges_transformer = builder.build_document_network(\n",
    "    documents=texts,\n",
    "    similarity_threshold=0.3,\n",
    "    top_k=10\n",
    ")\n",
    "elapsed_transformer = time.time() - start\n",
    "\n",
    "print(f\"Transformer network: {len(edges_transformer)} edges in {elapsed_transformer:.2f}s\")\n",
    "\n",
    "# Build co-occurrence network if available\n",
    "edges_cooccur = None\n",
    "elapsed_cooccur = None\n",
    "\n",
    "if cooccur is not None:\n",
    "    start = time.time()\n",
    "    # Using a minimal pipeline helper if available\n",
    "    # Fallback: skip building if not present\n",
    "    try:\n",
    "        # If a function exists to build from DataFrame, use it\n",
    "        from src.semantic.build_semantic_network import build_semantic_from_df\n",
    "        import tempfile, os\n",
    "        tmpdir = tempfile.mkdtemp()\n",
    "        build_semantic_from_df(df, tmpdir, min_df=5, topk=20)\n",
    "        # Load edges\n",
    "        edges_path = Path(tmpdir) / 'edges.csv'\n",
    "        if edges_path.exists():\n",
    "            edges_cooccur = pd.read_csv(edges_path)\n",
    "            elapsed_cooccur = time.time() - start\n",
    "            print(f\"Co-occurrence network: {len(edges_cooccur)} edges in {elapsed_cooccur:.2f}s\")\n",
    "        else:\n",
    "            print(\"Co-occurrence edges.csv not found; skipping.\")\n",
    "    except Exception as e:\n",
    "        print(f\"Co-occurrence build failed: {e}\")\n",
    "else:\n",
    "    print(\"Co-occurrence module unavailable; skipping.\")"
   ]
  },
  {
   "cell_type": "markdown",
   "id": "39b5fff1",
   "metadata": {},
   "source": [
    "## Section 4: Step 3 — Practical Examples\n",
    "\n",
    "Preview edges and sample nodes; compute basic stats."
   ]
  },
  {
   "cell_type": "code",
   "execution_count": null,
   "id": "6369f3f4",
   "metadata": {},
   "outputs": [],
   "source": [
    "print(\"Transformer edges sample:\")\n",
    "print(edges_transformer.head())\n",
    "\n",
    "if edges_cooccur is not None:\n",
    "    print(\"\\nCo-occurrence edges sample:\")\n",
    "    print(edges_cooccur.head())\n",
    "\n",
    "# Build simple graphs for metrics\n",
    "G_trans = nx.Graph()\n",
    "for _, r in edges_transformer.iterrows():\n",
    "    G_trans.add_edge(r['src'], r['dst'], weight=r['weight'])\n",
    "\n",
    "if edges_cooccur is not None:\n",
    "    G_co = nx.Graph()\n",
    "    src_col = 'source' if 'source' in edges_cooccur.columns else edges_cooccur.columns[0]\n",
    "    dst_col = 'target' if 'target' in edges_cooccur.columns else edges_cooccur.columns[1]\n",
    "    w_col = 'weight' if 'weight' in edges_cooccur.columns else edges_cooccur.columns[-1]\n",
    "    for _, r in edges_cooccur.iterrows():\n",
    "        G_co.add_edge(r[src_col], r[dst_col], weight=r[w_col])"
   ]
  },
  {
   "cell_type": "markdown",
   "id": "ddcd00c1",
   "metadata": {},
   "source": [
    "## Section 5: Step 4 — Visualization and Analysis\n",
    "\n",
    "Compute and compare simple metrics and visualizations."
   ]
  },
  {
   "cell_type": "code",
   "execution_count": null,
   "id": "e088cdc0",
   "metadata": {},
   "outputs": [],
   "source": [
    "def summarize_graph(G):\n",
    "    return {\n",
    "        'nodes': G.number_of_nodes(),\n",
    "        'edges': G.number_of_edges(),\n",
    "        'density': nx.density(G),\n",
    "        'avg_degree': np.mean([d for _, d in G.degree()]) if G.number_of_nodes() else 0,\n",
    "        'components': nx.number_connected_components(G)\n",
    "    }\n",
    "\n",
    "summary_trans = summarize_graph(G_trans)\n",
    "print(\"Transformer graph:\", summary_trans)\n",
    "\n",
    "if edges_cooccur is not None:\n",
    "    summary_co = summarize_graph(G_co)\n",
    "    print(\"Co-occurrence graph:\", summary_co)\n",
    "\n",
    "# Plot degree distributions\n",
    "plt.figure(figsize=(12, 5))\n",
    "plt.subplot(1, 2, 1)\n",
    "plt.hist([d for _, d in G_trans.degree()], bins=20, color='skyblue', edgecolor='black')\n",
    "plt.title('Transformer Degree Distribution')\n",
    "\n",
    "if edges_cooccur is not None:\n",
    "    plt.subplot(1, 2, 2)\n",
    "    plt.hist([d for _, d in G_co.degree()], bins=20, color='lightcoral', edgecolor='black')\n",
    "    plt.title('Co-occurrence Degree Distribution')\n",
    "\n",
    "plt.tight_layout()\n",
    "plt.show()\n",
    "\n",
    "# Timing summary\n",
    "print(\"\\nTiming Summary:\")\n",
    "print(f\"Transformer network build time: {elapsed_transformer:.2f}s\")\n",
    "if elapsed_cooccur is not None:\n",
    "    print(f\"Co-occurrence network build time: {elapsed_cooccur:.2f}s\")\n",
    "else:\n",
    "    print(\"Co-occurrence network build time: N/A\")"
   ]
  }
 ],
 "metadata": {
  "kernelspec": {
   "display_name": ".venv",
   "language": "python",
   "name": "python3"
  },
  "language_info": {
   "name": "python",
   "version": "3.14.0"
  }
 },
 "nbformat": 4,
 "nbformat_minor": 5
}
